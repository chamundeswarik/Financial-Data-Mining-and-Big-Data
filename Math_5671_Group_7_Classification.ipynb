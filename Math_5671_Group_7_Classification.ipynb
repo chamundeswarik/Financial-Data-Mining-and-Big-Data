{
 "cells": [
  {
   "cell_type": "markdown",
   "metadata": {},
   "source": [
    "#### Import Libraries"
   ]
  },
  {
   "cell_type": "code",
   "execution_count": 0,
   "metadata": {
    "colab": {},
    "colab_type": "code",
    "id": "KrKHaX2FPjJ7"
   },
   "outputs": [],
   "source": [
    "import matplotlib.pyplot as plt\n",
    "import numpy as np\n",
    "import pandas as pd\n",
    "%matplotlib inline"
   ]
  },
  {
   "cell_type": "code",
   "execution_count": 90,
   "metadata": {
    "colab": {
     "base_uri": "https://localhost:8080/",
     "height": 72
    },
    "colab_type": "code",
    "id": "-VbornLuPjKA",
    "outputId": "61d9cb52-5fe8-44f7-9619-c5f52abf01a7"
   },
   "outputs": [
    {
     "name": "stdout",
     "output_type": "stream",
     "text": [
      "Requirement already satisfied: pyspark==2.2.3 in /usr/local/lib/python3.6/dist-packages (2.2.3)\n",
      "Requirement already satisfied: py4j==0.10.7 in /usr/local/lib/python3.6/dist-packages (from pyspark==2.2.3) (0.10.7)\n"
     ]
    }
   ],
   "source": [
    "!pip install pyspark==2.2.3\n",
    "from pyspark.sql import types\n",
    "from pyspark.sql.functions import col\n",
    "from pyspark import SparkConf, SparkContext"
   ]
  },
  {
   "cell_type": "code",
   "execution_count": 0,
   "metadata": {
    "colab": {},
    "colab_type": "code",
    "id": "YwCucxWTPjKD"
   },
   "outputs": [],
   "source": [
    "import requests, pandas as pd, numpy as np\n",
    "from pandas import DataFrame\n",
    "from io import StringIO\n",
    "import time, json\n",
    "from datetime import date\n",
    "from statsmodels.tsa.stattools import adfuller, acf, pacf\n",
    "from statsmodels.tsa.arima_model import ARIMA\n",
    "from statsmodels.tsa.seasonal import seasonal_decompose\n",
    "from sklearn.metrics import mean_squared_error\n",
    "import matplotlib.pylab as plt\n",
    "from statsmodels.graphics.tsaplots import plot_acf, plot_pacf"
   ]
  },
  {
   "cell_type": "markdown",
   "metadata": {},
   "source": [
    "#### Create Spark Session"
   ]
  },
  {
   "cell_type": "code",
   "execution_count": 0,
   "metadata": {
    "colab": {},
    "colab_type": "code",
    "id": "jWyLNOiTPjKF"
   },
   "outputs": [],
   "source": [
    "# Reason why we have the getOrCreate code\n",
    "# http://stackoverflow.com/questions/28999332/how-to-access-sparkcontext-in-pyspark-script\n",
    "sc = SparkContext.getOrCreate()"
   ]
  },
  {
   "cell_type": "markdown",
   "metadata": {},
   "source": [
    "#### Load the Apple Stock data with fetaures created"
   ]
  },
  {
   "cell_type": "code",
   "execution_count": 93,
   "metadata": {
    "colab": {
     "base_uri": "https://localhost:8080/",
     "height": 555
    },
    "colab_type": "code",
    "id": "hvSejdiuPjKI",
    "outputId": "8366c17f-de21-4623-b47b-55d56a182203"
   },
   "outputs": [
    {
     "name": "stdout",
     "output_type": "stream",
     "text": [
      "root\n",
      " |-- Date: timestamp (nullable = true)\n",
      " |-- Open: double (nullable = true)\n",
      " |-- High: double (nullable = true)\n",
      " |-- Low: double (nullable = true)\n",
      " |-- Close: double (nullable = true)\n",
      " |-- Adj_Close: double (nullable = true)\n",
      " |-- Volume: integer (nullable = true)\n",
      " |-- O-L: double (nullable = true)\n",
      " |-- dummy_column: string (nullable = true)\n",
      " |-- Next_Adj_Close: string (nullable = true)\n",
      " |-- DATEFORMAT: string (nullable = true)\n",
      " |-- YEAR: integer (nullable = true)\n",
      " |-- MONTH: integer (nullable = true)\n",
      " |-- DAYOFMONTH: integer (nullable = true)\n",
      " |-- DAYOFWEEK: integer (nullable = true)\n",
      " |-- WEEKOFYEAR: integer (nullable = true)\n",
      " |-- week: integer (nullable = true)\n",
      " |-- Avg_Close_20: double (nullable = true)\n",
      " |-- Avg_Close_10: double (nullable = true)\n",
      " |-- Avg_Close_5: double (nullable = true)\n",
      " |-- Avg_Close_80: double (nullable = true)\n",
      " |-- Avg_Close_0_1_8_15: double (nullable = true)\n",
      " |-- Avg_Close_0_1_3_5: double (nullable = true)\n",
      " |-- Avg_Close_0_1_5_20_80: double (nullable = true)\n",
      " |-- Avg_Close_3: double (nullable = true)\n",
      " |-- Avg_Close_2: double (nullable = true)\n",
      " |-- O-C: double (nullable = true)\n",
      " |-- H-L: double (nullable = true)\n",
      " |-- Target: integer (nullable = true)\n",
      "\n"
     ]
    }
   ],
   "source": [
    "from pyspark.sql import SparkSession\n",
    "spark = SparkSession.builder.appName('Stock_price_prediction').getOrCreate()\n",
    "df = spark.read.csv(\"AAPL_processed.csv\", header = True, inferSchema = True)\n",
    "df.printSchema()"
   ]
  },
  {
   "cell_type": "code",
   "execution_count": 94,
   "metadata": {
    "colab": {
     "base_uri": "https://localhost:8080/",
     "height": 176
    },
    "colab_type": "code",
    "id": "iPiugHT3PjKQ",
    "outputId": "f367221a-2fac-4bb1-bc47-546e8ce10a8c"
   },
   "outputs": [
    {
     "name": "stdout",
     "output_type": "stream",
     "text": [
      "+-------------------+--------+--------+--------+--------+---------+---------+--------+------------+--------------+----------+----+-----+----------+---------+----------+----+------------+------------+-----------+------------+------------------+-----------------+---------------------+-----------+-----------+--------+--------+------+\n",
      "|               Date|    Open|    High|     Low|   Close|Adj_Close|   Volume|     O-L|dummy_column|Next_Adj_Close|DATEFORMAT|YEAR|MONTH|DAYOFMONTH|DAYOFWEEK|WEEKOFYEAR|week|Avg_Close_20|Avg_Close_10|Avg_Close_5|Avg_Close_80|Avg_Close_0_1_8_15|Avg_Close_0_1_3_5|Avg_Close_0_1_5_20_80|Avg_Close_3|Avg_Close_2|     O-C|     H-L|Target|\n",
      "+-------------------+--------+--------+--------+--------+---------+---------+--------+------------+--------------+----------+----+-----+----------+---------+----------+----+------------+------------+-----------+------------+------------------+-----------------+---------------------+-----------+-----------+--------+--------+------+\n",
      "|1980-12-12 05:00:00|0.513393|0.515625|0.513393|0.513393| 0.023007|117258400|     0.0|     Stocks!|      0.024508|12/12/1980|1980|   12|        12|        6|        50|   2|         0.6|         1.2|        2.4|        0.15|             14.25|            15.75|                 13.4|     14.319|       13.5|0.490386|0.002232|     0|\n",
      "|1980-12-15 05:00:00|0.488839|0.488839|0.486607|0.486607| 0.021807| 43971200|0.002232|     Stocks!|      0.025008|12/15/1980|1980|   12|        15|        2|        51|   3|        1.35|         2.7|        5.4|      0.3375|              16.0|            17.75|                 15.2|     15.984|       15.5|0.467032|0.002232|     0|\n",
      "+-------------------+--------+--------+--------+--------+---------+---------+--------+------------+--------------+----------+----+-----+----------+---------+----------+----+------------+------------+-----------+------------+------------------+-----------------+---------------------+-----------+-----------+--------+--------+------+\n",
      "only showing top 2 rows\n",
      "\n"
     ]
    }
   ],
   "source": [
    "df.show(2)"
   ]
  },
  {
   "cell_type": "markdown",
   "metadata": {},
   "source": [
    "#### select fetaures for the Classification Model"
   ]
  },
  {
   "cell_type": "code",
   "execution_count": 0,
   "metadata": {
    "colab": {},
    "colab_type": "code",
    "id": "SSZEs0lAXxAo"
   },
   "outputs": [],
   "source": [
    "cols=[\"Adj_Close\",\"Volume\",\"O-L\",\"Avg_Close_20\",\"Avg_Close_10\",\t\"Avg_Close_5\",\"Avg_Close_80\",\"Avg_Close_0_1_8_15\",\"Avg_Close_0_1_3_5\",\"Avg_Close_0_1_5_20_80\",\"Avg_Close_3\",\"Avg_Close_2\",\"O-C\",\"H-L\"]"
   ]
  },
  {
   "cell_type": "markdown",
   "metadata": {},
   "source": [
    "#### Create Vector Assembler for building the model"
   ]
  },
  {
   "cell_type": "code",
   "execution_count": 0,
   "metadata": {
    "colab": {},
    "colab_type": "code",
    "id": "Ob-rWeLJVBFp"
   },
   "outputs": [],
   "source": [
    "from pyspark.ml.feature import VectorAssembler\n",
    "df_assembler = VectorAssembler(inputCols=cols, outputCol=\"features\")"
   ]
  },
  {
   "cell_type": "code",
   "execution_count": 118,
   "metadata": {
    "colab": {
     "base_uri": "https://localhost:8080/",
     "height": 176
    },
    "colab_type": "code",
    "id": "7v6z_uElyTqW",
    "outputId": "079d4b1b-cb39-4b87-9f39-52ff73aaeb51"
   },
   "outputs": [
    {
     "name": "stdout",
     "output_type": "stream",
     "text": [
      "+-------------------+--------+--------+--------+--------+---------+---------+--------+------------+--------------+----------+----+-----+----------+---------+----------+----+------------+------------+-----------+------------+------------------+-----------------+---------------------+-----------+-----------+--------+--------+------+--------------------+\n",
      "|               Date|    Open|    High|     Low|   Close|Adj_Close|   Volume|     O-L|dummy_column|Next_Adj_Close|DATEFORMAT|YEAR|MONTH|DAYOFMONTH|DAYOFWEEK|WEEKOFYEAR|week|Avg_Close_20|Avg_Close_10|Avg_Close_5|Avg_Close_80|Avg_Close_0_1_8_15|Avg_Close_0_1_3_5|Avg_Close_0_1_5_20_80|Avg_Close_3|Avg_Close_2|     O-C|     H-L|Target|            features|\n",
      "+-------------------+--------+--------+--------+--------+---------+---------+--------+------------+--------------+----------+----+-----+----------+---------+----------+----+------------+------------+-----------+------------+------------------+-----------------+---------------------+-----------+-----------+--------+--------+------+--------------------+\n",
      "|1980-12-12 05:00:00|0.513393|0.515625|0.513393|0.513393| 0.023007|117258400|     0.0|     Stocks!|      0.024508|12/12/1980|1980|   12|        12|        6|        50|   2|         0.6|         1.2|        2.4|        0.15|             14.25|            15.75|                 13.4|     14.319|       13.5|0.490386|0.002232|     0|[0.023007,1.17258...|\n",
      "|1980-12-15 05:00:00|0.488839|0.488839|0.486607|0.486607| 0.021807| 43971200|0.002232|     Stocks!|      0.025008|12/15/1980|1980|   12|        15|        2|        51|   3|        1.35|         2.7|        5.4|      0.3375|              16.0|            17.75|                 15.2|     15.984|       15.5|0.467032|0.002232|     0|[0.021807,4.39712...|\n",
      "+-------------------+--------+--------+--------+--------+---------+---------+--------+------------+--------------+----------+----+-----+----------+---------+----------+----+------------+------------+-----------+------------+------------------+-----------------+---------------------+-----------+-----------+--------+--------+------+--------------------+\n",
      "only showing top 2 rows\n",
      "\n"
     ]
    }
   ],
   "source": [
    "df_final = df_assembler.transform(df)\n",
    "df_final.show(2)"
   ]
  },
  {
   "cell_type": "markdown",
   "metadata": {},
   "source": [
    "#### Spliiting the Training and Testing Data"
   ]
  },
  {
   "cell_type": "code",
   "execution_count": 119,
   "metadata": {
    "colab": {
     "base_uri": "https://localhost:8080/",
     "height": 176
    },
    "colab_type": "code",
    "id": "JCy9OMMu9hSm",
    "outputId": "a10e7d3c-2e2d-4758-f1db-5cb346f786a9"
   },
   "outputs": [
    {
     "name": "stdout",
     "output_type": "stream",
     "text": [
      "+-------------------+----------+----------+----------+----------+----------+--------+--------+------------+--------------+----------+----+-----+----------+---------+----------+----+------------+------------+-----------+------------+------------------+-----------------+---------------------+-----------+-----------+--------+--------+------+--------------------+\n",
      "|               Date|      Open|      High|       Low|     Close| Adj_Close|  Volume|     O-L|dummy_column|Next_Adj_Close|DATEFORMAT|YEAR|MONTH|DAYOFMONTH|DAYOFWEEK|WEEKOFYEAR|week|Avg_Close_20|Avg_Close_10|Avg_Close_5|Avg_Close_80|Avg_Close_0_1_8_15|Avg_Close_0_1_3_5|Avg_Close_0_1_5_20_80|Avg_Close_3|Avg_Close_2|     O-C|     H-L|Target|            features|\n",
      "+-------------------+----------+----------+----------+----------+----------+--------+--------+------------+--------------+----------+----+-----+----------+---------+----------+----+------------+------------+-----------+------------+------------------+-----------------+---------------------+-----------+-----------+--------+--------+------+--------------------+\n",
      "|2018-01-02 05:00:00|170.160004|172.300003|169.259995|172.259995| 168.98732|25555900|0.900009|     Stocks!|    164.592438|  1/2/2018|2018|    1|         2|        3|         1|   1|       15.35|        21.2|       22.4|     16.1125|             10.25|             4.75|                 14.4|      2.997|        2.5|1.172684|3.040008|     0|[168.98732,2.5555...|\n",
      "|2018-01-03 05:00:00|172.529999|174.550003|171.960007|172.229996|168.957886|29517900|0.569992|     Stocks!|    157.450745|  1/3/2018|2018|    1|         3|        4|         1|   1|        15.3|        19.7|       17.8|       16.05|              12.0|             6.25|                  9.6|      3.996|        3.5|3.572113|2.589996|     1|[168.957886,2.951...|\n",
      "+-------------------+----------+----------+----------+----------+----------+--------+--------+------------+--------------+----------+----+-----+----------+---------+----------+----+------------+------------+-----------+------------+------------------+-----------------+---------------------+-----------+-----------+--------+--------+------+--------------------+\n",
      "only showing top 2 rows\n",
      "\n"
     ]
    }
   ],
   "source": [
    "# Data after 2017 is taken for testing\n",
    "test_df = df_final.where(df_final.YEAR > '2017' )\n",
    "test_df.show(2)"
   ]
  },
  {
   "cell_type": "code",
   "execution_count": 120,
   "metadata": {
    "colab": {
     "base_uri": "https://localhost:8080/",
     "height": 176
    },
    "colab_type": "code",
    "id": "rYUXQSAK_kGa",
    "outputId": "bb14771b-91f2-434a-a86e-8a201534a0b3"
   },
   "outputs": [
    {
     "name": "stdout",
     "output_type": "stream",
     "text": [
      "+-------------------+--------+--------+--------+--------+---------+---------+--------+------------+--------------+----------+----+-----+----------+---------+----------+----+------------+------------+-----------+------------+------------------+-----------------+---------------------+-----------+-----------+--------+--------+------+--------------------+\n",
      "|               Date|    Open|    High|     Low|   Close|Adj_Close|   Volume|     O-L|dummy_column|Next_Adj_Close|DATEFORMAT|YEAR|MONTH|DAYOFMONTH|DAYOFWEEK|WEEKOFYEAR|week|Avg_Close_20|Avg_Close_10|Avg_Close_5|Avg_Close_80|Avg_Close_0_1_8_15|Avg_Close_0_1_3_5|Avg_Close_0_1_5_20_80|Avg_Close_3|Avg_Close_2|     O-C|     H-L|Target|            features|\n",
      "+-------------------+--------+--------+--------+--------+---------+---------+--------+------------+--------------+----------+----+-----+----------+---------+----------+----+------------+------------+-----------+------------+------------------+-----------------+---------------------+-----------+-----------+--------+--------+------+--------------------+\n",
      "|1980-12-12 05:00:00|0.513393|0.515625|0.513393|0.513393| 0.023007|117258400|     0.0|     Stocks!|      0.024508|12/12/1980|1980|   12|        12|        6|        50|   2|         0.6|         1.2|        2.4|        0.15|             14.25|            15.75|                 13.4|     14.319|       13.5|0.490386|0.002232|     0|[0.023007,1.17258...|\n",
      "|1980-12-15 05:00:00|0.488839|0.488839|0.486607|0.486607| 0.021807| 43971200|0.002232|     Stocks!|      0.025008|12/15/1980|1980|   12|        15|        2|        51|   3|        1.35|         2.7|        5.4|      0.3375|              16.0|            17.75|                 15.2|     15.984|       15.5|0.467032|0.002232|     0|[0.021807,4.39712...|\n",
      "+-------------------+--------+--------+--------+--------+---------+---------+--------+------------+--------------+----------+----+-----+----------+---------+----------+----+------------+------------+-----------+------------+------------------+-----------------+---------------------+-----------+-----------+--------+--------+------+--------------------+\n",
      "only showing top 2 rows\n",
      "\n"
     ]
    }
   ],
   "source": [
    "# Data before 2017 is taken for training\n",
    "train_df = df_final.where(df_final.YEAR <= '2017' )\n",
    "train_df.show(2)"
   ]
  },
  {
   "cell_type": "markdown",
   "metadata": {},
   "source": [
    "#### Logistic Regression  Model"
   ]
  },
  {
   "cell_type": "code",
   "execution_count": 0,
   "metadata": {
    "colab": {},
    "colab_type": "code",
    "id": "HTmyXzaqQgBY"
   },
   "outputs": [],
   "source": [
    "from pyspark.ml.classification import LogisticRegression"
   ]
  },
  {
   "cell_type": "code",
   "execution_count": 0,
   "metadata": {
    "colab": {},
    "colab_type": "code",
    "id": "vRklNu1vQh7j"
   },
   "outputs": [],
   "source": [
    "log_reg=LogisticRegression(labelCol='Target').fit(train_df)"
   ]
  },
  {
   "cell_type": "code",
   "execution_count": 123,
   "metadata": {
    "colab": {
     "base_uri": "https://localhost:8080/",
     "height": 176
    },
    "colab_type": "code",
    "id": "mewzF0tBQiA9",
    "outputId": "155d48ef-4a5f-498d-cd99-2342f9764ca6"
   },
   "outputs": [
    {
     "name": "stdout",
     "output_type": "stream",
     "text": [
      "+-------------------+--------+--------+--------+--------+---------+---------+--------+------------+--------------+----------+----+-----+----------+---------+----------+----+------------+------------+-----------+------------+------------------+-----------------+---------------------+-----------+-----------+--------+--------+------+--------------------+--------------------+--------------------+----------+\n",
      "|               Date|    Open|    High|     Low|   Close|Adj_Close|   Volume|     O-L|dummy_column|Next_Adj_Close|DATEFORMAT|YEAR|MONTH|DAYOFMONTH|DAYOFWEEK|WEEKOFYEAR|week|Avg_Close_20|Avg_Close_10|Avg_Close_5|Avg_Close_80|Avg_Close_0_1_8_15|Avg_Close_0_1_3_5|Avg_Close_0_1_5_20_80|Avg_Close_3|Avg_Close_2|     O-C|     H-L|Target|            features|       rawPrediction|         probability|prediction|\n",
      "+-------------------+--------+--------+--------+--------+---------+---------+--------+------------+--------------+----------+----+-----+----------+---------+----------+----+------------+------------+-----------+------------+------------------+-----------------+---------------------+-----------+-----------+--------+--------+------+--------------------+--------------------+--------------------+----------+\n",
      "|1980-12-12 05:00:00|0.513393|0.515625|0.513393|0.513393| 0.023007|117258400|     0.0|     Stocks!|      0.024508|12/12/1980|1980|   12|        12|        6|        50|   2|         0.6|         1.2|        2.4|        0.15|             14.25|            15.75|                 13.4|     14.319|       13.5|0.490386|0.002232|     0|[0.023007,1.17258...|[0.01510577744145...|[0.50377637255149...|       0.0|\n",
      "|1980-12-15 05:00:00|0.488839|0.488839|0.486607|0.486607| 0.021807| 43971200|0.002232|     Stocks!|      0.025008|12/15/1980|1980|   12|        15|        2|        51|   3|        1.35|         2.7|        5.4|      0.3375|              16.0|            17.75|                 15.2|     15.984|       15.5|0.467032|0.002232|     0|[0.021807,4.39712...|[0.04835518738507...|[0.51208644187052...|       0.0|\n",
      "+-------------------+--------+--------+--------+--------+---------+---------+--------+------------+--------------+----------+----+-----+----------+---------+----------+----+------------+------------+-----------+------------+------------------+-----------------+---------------------+-----------+-----------+--------+--------+------+--------------------+--------------------+--------------------+----------+\n",
      "only showing top 2 rows\n",
      "\n"
     ]
    }
   ],
   "source": [
    "train_results=log_reg.evaluate(train_df).predictions\n",
    "train_results.show(2)"
   ]
  },
  {
   "cell_type": "code",
   "execution_count": 129,
   "metadata": {
    "colab": {
     "base_uri": "https://localhost:8080/",
     "height": 295
    },
    "colab_type": "code",
    "id": "Nk4vaNEGQiGe",
    "outputId": "e0344605-5cc7-4610-96d7-8c16b8ee33c5"
   },
   "outputs": [
    {
     "name": "stdout",
     "output_type": "stream",
     "text": [
      "+------+----------+----------------------------------------+\n",
      "|Target|prediction|probability                             |\n",
      "+------+----------+----------------------------------------+\n",
      "|1     |0.0       |[0.5110017042184938,0.4889982957815062] |\n",
      "|1     |0.0       |[0.5093105569654581,0.4906894430345418] |\n",
      "|1     |0.0       |[0.5061284211516204,0.4938715788483796] |\n",
      "|1     |0.0       |[0.5266262369583081,0.47337376304169176]|\n",
      "|1     |0.0       |[0.5329370398658472,0.4670629601341528] |\n",
      "|1     |0.0       |[0.5386959394046814,0.4613040605953186] |\n",
      "|1     |0.0       |[0.540610120799119,0.45938987920088104] |\n",
      "|1     |0.0       |[0.5491281804522494,0.45087181954775063]|\n",
      "|1     |0.0       |[0.55087914759862,0.44912085240138]     |\n",
      "|1     |0.0       |[0.5674952642318193,0.43250473576818077]|\n",
      "+------+----------+----------------------------------------+\n",
      "only showing top 10 rows\n",
      "\n"
     ]
    }
   ],
   "source": [
    "train_results.filter(train_results['Target']==1).filter(train_results['prediction']==0).select(['Target','prediction','probability']).show(10,False)"
   ]
  },
  {
   "cell_type": "markdown",
   "metadata": {
    "colab": {},
    "colab_type": "code",
    "id": "5wgyOGn4QiJJ"
   },
   "source": [
    "#### Model Evaluation"
   ]
  },
  {
   "cell_type": "code",
   "execution_count": 133,
   "metadata": {
    "colab": {
     "base_uri": "https://localhost:8080/",
     "height": 295
    },
    "colab_type": "code",
    "id": "sTFyfpM9Zyfo",
    "outputId": "55cb87d2-9221-45f8-e178-8afadbd28d67"
   },
   "outputs": [
    {
     "name": "stdout",
     "output_type": "stream",
     "text": [
      "+------+----------+\n",
      "|Target|prediction|\n",
      "+------+----------+\n",
      "|0     |1.0       |\n",
      "|1     |1.0       |\n",
      "|1     |1.0       |\n",
      "|0     |1.0       |\n",
      "|0     |1.0       |\n",
      "|0     |1.0       |\n",
      "|1     |1.0       |\n",
      "|1     |1.0       |\n",
      "|0     |1.0       |\n",
      "|1     |1.0       |\n",
      "+------+----------+\n",
      "only showing top 10 rows\n",
      "\n"
     ]
    }
   ],
   "source": [
    "#Test Set results\n",
    "\n",
    "results=log_reg.evaluate(test_df).predictions\n",
    "results.select(['Target','prediction']).show(10,False)"
   ]
  },
  {
   "cell_type": "code",
   "execution_count": 0,
   "metadata": {
    "colab": {},
    "colab_type": "code",
    "id": "7yzyF9oBQiPh"
   },
   "outputs": [],
   "source": [
    "from pyspark.ml.evaluation import BinaryClassificationEvaluator\n",
    "\n",
    "#confusion matrix\n",
    "true_postives = results[(results.Target == 1) & (results.prediction == 1)].count()\n",
    "true_negatives = results[(results.Target == 0) & (results.prediction == 0)].count()\n",
    "false_positives = results[(results.Target == 0) & (results.prediction == 1)].count()\n",
    "false_negatives = results[(results.Target == 1) & (results.prediction == 0)].count()"
   ]
  },
  {
   "cell_type": "code",
   "execution_count": 149,
   "metadata": {
    "colab": {
     "base_uri": "https://localhost:8080/",
     "height": 35
    },
    "colab_type": "code",
    "id": "mhAR0lR-QiaF",
    "outputId": "25a4bb27-e872-40d9-a6e8-f29c276bbf07"
   },
   "outputs": [
    {
     "name": "stdout",
     "output_type": "stream",
     "text": [
      "0.7750677506775068\n"
     ]
    }
   ],
   "source": [
    "recall = float(true_postives)/(true_postives + false_negatives)\n",
    "print(recall)"
   ]
  },
  {
   "cell_type": "code",
   "execution_count": 151,
   "metadata": {
    "colab": {
     "base_uri": "https://localhost:8080/",
     "height": 35
    },
    "colab_type": "code",
    "id": "J4fVg_efQifM",
    "outputId": "0d2b16e2-5cd9-4df3-b695-957cbe2ecf82"
   },
   "outputs": [
    {
     "name": "stdout",
     "output_type": "stream",
     "text": [
      "0.5618860510805501\n"
     ]
    }
   ],
   "source": [
    "precision = float(true_postives) / (true_postives + false_positives)\n",
    "print(precision)"
   ]
  },
  {
   "cell_type": "code",
   "execution_count": 152,
   "metadata": {
    "colab": {
     "base_uri": "https://localhost:8080/",
     "height": 35
    },
    "colab_type": "code",
    "id": "aHkczwAEQive",
    "outputId": "94e4f9eb-ab2e-493d-b449-0f5e37caf20e"
   },
   "outputs": [
    {
     "name": "stdout",
     "output_type": "stream",
     "text": [
      "0.5342465753424658\n"
     ]
    }
   ],
   "source": [
    "accuracy=float((true_postives+true_negatives) /(results.count()))\n",
    "print(accuracy)"
   ]
  }
 ],
 "metadata": {
  "colab": {
   "name": "Math 5671_Project_Machine Learning.ipynb",
   "provenance": []
  },
  "kernelspec": {
   "display_name": "Python 3",
   "language": "python",
   "name": "python3"
  },
  "language_info": {
   "codemirror_mode": {
    "name": "ipython",
    "version": 3
   },
   "file_extension": ".py",
   "mimetype": "text/x-python",
   "name": "python",
   "nbconvert_exporter": "python",
   "pygments_lexer": "ipython3",
   "version": "3.7.3"
  }
 },
 "nbformat": 4,
 "nbformat_minor": 1
}
